{
  "nbformat": 4,
  "nbformat_minor": 0,
  "metadata": {
    "colab": {
      "name": "Bản sao của tamquan hau.ipynb",
      "provenance": [],
      "authorship_tag": "ABX9TyNzoOl7MOb4dR0FBnnJho7d",
      "include_colab_link": true
    },
    "kernelspec": {
      "name": "python3",
      "display_name": "Python 3"
    },
    "language_info": {
      "name": "python"
    }
  },
  "cells": [
    {
      "cell_type": "markdown",
      "metadata": {
        "id": "view-in-github",
        "colab_type": "text"
      },
      "source": [
        "<a href=\"https://colab.research.google.com/github/viett887g/tamquanhau/blob/main/B%E1%BA%A3n_sao_c%E1%BB%A7a_tamquan_hau.ipynb\" target=\"_parent\"><img src=\"https://colab.research.google.com/assets/colab-badge.svg\" alt=\"Open In Colab\"/></a>"
      ]
    },
    {
      "cell_type": "code",
      "execution_count": null,
      "metadata": {
        "colab": {
          "base_uri": "https://localhost:8080/"
        },
        "id": "k7Rvz0mUJw-h",
        "outputId": "c466517b-71b0-460a-b753-b301c85e2959"
      },
      "outputs": [
        {
          "output_type": "stream",
          "name": "stdout",
          "text": [
            "0 59 38 33 30 17 8 63 \n",
            "37 34 31 60 9 62 29 16 \n",
            "58 1 36 39 32 27 18 7 \n",
            "35 48 41 26 61 10 15 28 \n",
            "42 57 2 49 40 23 6 19 \n",
            "47 50 45 54 25 20 11 14 \n",
            "56 43 52 3 22 13 24 5 \n",
            "51 46 55 44 53 4 21 12 \n"
          ]
        }
      ],
      "source": [
        "import pandas as pd\n",
        "\n",
        "n = 8 #tức là bàn cờ 8 x 8\n",
        "\n",
        "def isSafe(x, y, board): #kiểm tra xem hướng đi của con mã có nằm trong bàn cờ hay không\n",
        "                         #x là hướng di chuyển con mã trên trục x\n",
        "                         #y là hướng di chuyển con mã trên trục y\n",
        "                         #board\n",
        "    \n",
        "    if(x >= 0 and y >= 0 and x < n and y < n and board[x][y] == -1):\n",
        "        return True\n",
        "    return False\n",
        "\n",
        "def printSolution(board):\n",
        "    \n",
        "    for i in range(n):\n",
        "        for j in range(n):\n",
        "            print(board[i][j],end = \" \")\n",
        "        print()\n",
        "        \n",
        "    \n",
        "def solveKT():\n",
        "    \n",
        "    board = [[-1 for i in range(n)]for i in range(n)] \n",
        "    \n",
        "    move_x = [2, 1, -1, -2, -2, -1, 1, 2] #các hướng di chuyển con mã theo trục x\n",
        "    move_y = [1, 2, 2, 1, -1, -2, -2, -1] #các hướng di chuyển con mã theo trục y\n",
        "    \n",
        "    board[0][0] = 0 #gán vị trí đầu tiên cho con mã\n",
        "    \n",
        "    pos = 1 #pos để đếm số lần con mã di chuyển, ban đầu là 1\n",
        "    \n",
        "    if not solveKTUtil(board, 0, 0, move_x, move_y, pos):\n",
        "        print(\"Solution does not exist\")\n",
        "    else:\n",
        "        # print(board)\n",
        "        printSolution(board)\n",
        "    \n",
        "    \n",
        "def solveKTUtil(board, curr_x, curr_y, move_x, move_y, pos): \n",
        "    #curr_x, curr_y vị trí hiện tại của con mã\n",
        "    \n",
        "    if(pos == n**2):\n",
        "        return True\n",
        "    \n",
        "    \n",
        "    for i in range(8):\n",
        "        \n",
        "        new_x = curr_x + move_x[i]\n",
        "        new_y = curr_y + move_y[i]\n",
        "        \n",
        "        if isSafe(new_x, new_y, board):\n",
        "            board[new_x][new_y] = pos \n",
        "            # print(board)\n",
        "            # print(pos)\n",
        "            if(solveKTUtil(board, new_x, new_y, move_x, move_y, pos+1)):\n",
        "                return True\n",
        "    \n",
        "            board[new_x][new_y] = -1\n",
        "    \n",
        "    return False\n",
        "\n",
        "\n",
        "\n",
        "        \n",
        "\n",
        "solveKT()"
      ]
    }
  ]
}